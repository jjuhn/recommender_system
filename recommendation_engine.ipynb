{
 "cells": [
  {
   "cell_type": "markdown",
   "metadata": {},
   "source": [
    "There are 3 types of Recommendation Engines\n",
    "1. Recommend the most popular items in a category: This way, there is no personalization involved. Often times, you could probably query database straight to answer this question. \n",
    "\n",
    "2. Classification algorithms: You can simply treat this as binary classification problem. \n",
    "\n",
    "3. Recommendation Algorithms: \n",
    "> 1. Content based algorithms\n",
    "> 2. Collaborative Filtering algorithms\n",
    ">>1. User-user collaborative filtering\n",
    ">>2. Item-item collaborative filtering\n",
    ">>3. Market basket analysis\n",
    "\n",
    "This project, I am going to implement Collaborative Filtering algorithm and Content based algorithm. \n",
    "\n"
   ]
  },
  {
   "cell_type": "code",
   "execution_count": 1,
   "metadata": {
    "collapsed": true
   },
   "outputs": [],
   "source": [
    "import pandas as pd \n"
   ]
  },
  {
   "cell_type": "code",
   "execution_count": null,
   "metadata": {
    "collapsed": true
   },
   "outputs": [],
   "source": []
  }
 ],
 "metadata": {
  "kernelspec": {
   "display_name": "Python 3",
   "language": "python",
   "name": "python3"
  },
  "language_info": {
   "codemirror_mode": {
    "name": "ipython",
    "version": 3
   },
   "file_extension": ".py",
   "mimetype": "text/x-python",
   "name": "python",
   "nbconvert_exporter": "python",
   "pygments_lexer": "ipython3",
   "version": "3.5.3"
  }
 },
 "nbformat": 4,
 "nbformat_minor": 2
}
